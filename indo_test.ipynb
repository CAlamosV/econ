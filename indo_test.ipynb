{
 "cells": [
  {
   "cell_type": "code",
   "execution_count": 1,
   "metadata": {},
   "outputs": [
    {
     "name": "stderr",
     "output_type": "stream",
     "text": [
      "/Users/calamos/opt/anaconda3/lib/python3.8/site-packages/scipy/__init__.py:146: UserWarning: A NumPy version >=1.16.5 and <1.23.0 is required for this version of SciPy (detected version 1.24.4\n",
      "  warnings.warn(f\"A NumPy version >={np_minversion} and <{np_maxversion}\"\n"
     ]
    },
    {
     "data": {
      "text/html": [
       "<div>\n",
       "<style scoped>\n",
       "    .dataframe tbody tr th:only-of-type {\n",
       "        vertical-align: middle;\n",
       "    }\n",
       "\n",
       "    .dataframe tbody tr th {\n",
       "        vertical-align: top;\n",
       "    }\n",
       "\n",
       "    .dataframe thead th {\n",
       "        text-align: right;\n",
       "    }\n",
       "</style>\n",
       "<table border=\"1\" class=\"dataframe\">\n",
       "  <thead>\n",
       "    <tr style=\"text-align: right;\">\n",
       "      <th></th>\n",
       "      <th>Outcome</th>\n",
       "      <th>Coefficient</th>\n",
       "      <th>Standard Error</th>\n",
       "      <th>P-value</th>\n",
       "    </tr>\n",
       "  </thead>\n",
       "  <tbody>\n",
       "    <tr>\n",
       "      <th>0</th>\n",
       "      <td>Years of Education</td>\n",
       "      <td>0.180</td>\n",
       "      <td>0.086</td>\n",
       "      <td>0.037</td>\n",
       "    </tr>\n",
       "    <tr>\n",
       "      <th>1</th>\n",
       "      <td>Log Wage</td>\n",
       "      <td>0.042</td>\n",
       "      <td>0.014</td>\n",
       "      <td>0.004</td>\n",
       "    </tr>\n",
       "  </tbody>\n",
       "</table>\n",
       "</div>"
      ],
      "text/plain": [
       "              Outcome  Coefficient  Standard Error  P-value\n",
       "0  Years of Education        0.180           0.086    0.037\n",
       "1            Log Wage        0.042           0.014    0.004"
      ]
     },
     "execution_count": 1,
     "metadata": {},
     "output_type": "execute_result"
    }
   ],
   "source": [
    "import pandas as pd\n",
    "import statsmodels.api as sm\n",
    "import statsmodels.formula.api as smf\n",
    "import numpy as np\n",
    "\n",
    "df = pd.read_stata('data/indonesia_schooling.dta')\n",
    "\n",
    "df = df.rename(columns={\n",
    "    'p504thn': 'birth_yr',\n",
    "    'p509pro': 'province',\n",
    "    'recp': 'school_construction',\n",
    "    'lhwage': 'log_wage',\n",
    "    'yeduc': 'years_of_education',\n",
    "})\n",
    "\n",
    "df['age74'] = 74 - df['birth_yr'] # Calculate age in 1974\n",
    "\n",
    "# Generate age group indicators\n",
    "df['old'] = ((df['age74'] <= 17) & (df['age74'] >= 12)).astype(int)\n",
    "df['young'] = ((df['age74'] >= 2) & (df['age74'] <= 6)).astype(int)\n",
    "\n",
    "# Generate interaction term for high_inpres and young\n",
    "df['school_construction_x_young'] = df['school_construction'] * df['young']\n",
    "df = df[((df['young'] == 1) | (df['old'] == 1)) & (df['log_wage'].notna())]\n",
    "\n",
    "# Estimate the model\n",
    "education_formula = \"years_of_education ~ school_construction + school_construction_x_young + C(province) + ch71*C(birth_yr)\"\n",
    "log_wage_formula = \"log_wage ~ school_construction + school_construction_x_young + C(province) + ch71*C(birth_yr)\"\n",
    "education_results = smf.wls(formula=education_formula, data=df, weights=df['weight'], hasconst=True).fit()\n",
    "log_wage_results = smf.wls(formula=log_wage_formula, data=df, weights=df['weight'], hasconst=True).fit()\n",
    "\n",
    "term = 'school_construction_x_young'\n",
    "def get_estimates(result, term):\n",
    "    coef = np.round(result.params[term], 3)\n",
    "    std_err = np.round(result.bse[term], 3)\n",
    "    p_value = np.round(result.pvalues[term], 3)\n",
    "    return coef, std_err, p_value\n",
    "\n",
    "education_coef, education_std_err, education_p_value = get_estimates(education_results, term)\n",
    "log_wage_coef, log_wage_std_err, log_wage_p_value = get_estimates(log_wage_results, term)\n",
    "\n",
    "df_results = pd.DataFrame({ # Create a dfFrame with the results\n",
    "    'Outcome': ['Years of Education', 'Log Wage'],\n",
    "    'Coefficient': [education_coef, log_wage_coef],\n",
    "    'Standard Error': [education_std_err, log_wage_std_err],\n",
    "    'P-value': [education_p_value, log_wage_p_value]\n",
    "})\n",
    "df_results"
   ]
  },
  {
   "cell_type": "code",
   "execution_count": 14,
   "metadata": {},
   "outputs": [
    {
     "data": {
      "text/plain": [
       "Index(['years_of_education', 'p105', 'birth_yr', 'province', 'p509kab',\n",
       "       'weight', 'p607', 'p608', 'wage', 'birthpl', 'log_wage', 'lwage',\n",
       "       'p504th', 'resid', 'nin', 'school_construction', 'ch71', 'en71',\n",
       "       'wsppc', 'dens71', 'treat1b', 'treat2b', 'dum', 'moldyed', 'java',\n",
       "       'urban', 'age74', 'old', 'young', 'school_construction_x_young'],\n",
       "      dtype='object')"
      ]
     },
     "execution_count": 14,
     "metadata": {},
     "output_type": "execute_result"
    }
   ],
   "source": [
    "df['nin_x_young'] = df['nin'] * df['young']\n",
    "education_formula = \"years_of_education ~ nin + nin_x_young + C(province) + ch71:C(birth_yr) + C(birth_yr)\"\n",
    "log_wage_formula = \"log_wage ~ nin + nin_x_young + C(province) + ch71:C(birth_yr) + C(birth_yr)\""
   ]
  },
  {
   "cell_type": "code",
   "execution_count": null,
   "metadata": {},
   "outputs": [],
   "source": []
  }
 ],
 "metadata": {
  "kernelspec": {
   "display_name": "Python 3",
   "language": "python",
   "name": "python3"
  },
  "language_info": {
   "codemirror_mode": {
    "name": "ipython",
    "version": 3
   },
   "file_extension": ".py",
   "mimetype": "text/x-python",
   "name": "python",
   "nbconvert_exporter": "python",
   "pygments_lexer": "ipython3",
   "version": "3.8.13"
  }
 },
 "nbformat": 4,
 "nbformat_minor": 2
}
